{
 "cells": [
  {
   "cell_type": "code",
   "execution_count": 4,
   "metadata": {},
   "outputs": [
    {
     "name": "stdout",
     "output_type": "stream",
     "text": [
      "too high\n"
     ]
    }
   ],
   "source": [
    "#4.1 Choose a number between 1 and 10 and assign it to the variable secret. \n",
    "# Then, select another number between 1 and 10 and assign it to the variable guess. \n",
    "# Next, write the conditional tests (if, else, and elif) to print the string 'too low' if guess is less than secret,\n",
    "# 'too high' if greater than secret, and 'just right' if equal to secret.\n",
    "secret = 5\n",
    "guess = 10\n",
    "if guess < secret:\n",
    "    print (\"too low\")\n",
    "elif guess > secret:\n",
    "    print (\"too high\")\n",
    "elif guess == secret:\n",
    "    print (\"just right\")\n",
    "else:\n",
    "    print(\"Enter a number 1-10\")"
   ]
  },
  {
   "cell_type": "code",
   "execution_count": 5,
   "metadata": {},
   "outputs": [
    {
     "name": "stdout",
     "output_type": "stream",
     "text": [
      "It's a pumpkin!\n"
     ]
    }
   ],
   "source": [
    "#4.2 Assign True or False to the variables small and green. \n",
    "# Write some if/else statements to print which of these matches those choices: \n",
    "# cherry, pea, watermelon, pumpkin.\n",
    "small=False\n",
    "green=False\n",
    "if small and green:\n",
    "    print(\"It's a pea!\")\n",
    "elif small and not green:\n",
    "    print(\"It's a cherry!\")\n",
    "elif green and not small:\n",
    "    print(\"It's a watermelon\")\n",
    "elif small == green and green != True:\n",
    "    print(\"It's a pumpkin!\")\n",
    "else:\n",
    "    print(\"It's not anything I know of.\")"
   ]
  },
  {
   "cell_type": "code",
   "execution_count": 6,
   "metadata": {},
   "outputs": [
    {
     "name": "stdout",
     "output_type": "stream",
     "text": [
      "3\n",
      "2\n",
      "1\n",
      "0\n"
     ]
    }
   ],
   "source": [
    "#6.1 Use a for loop to print the values of the list [3, 2, 1, 0].\n",
    "numbers = [3,2,1,0]\n",
    "for number in numbers:\n",
    "    print(number)"
   ]
  },
  {
   "cell_type": "code",
   "execution_count": 7,
   "metadata": {},
   "outputs": [
    {
     "name": "stdout",
     "output_type": "stream",
     "text": [
      "too low\n",
      "too low\n",
      "too low\n",
      "too low\n",
      "too low\n",
      "too low\n",
      "found it!\n"
     ]
    }
   ],
   "source": [
    "# 6.2 Assign the value 7 to the variable guess_me, and the value 1 to the variable number. \n",
    "# Write a while loop that compares number with guess_me. Print 'too low' if number is less than guess me.\n",
    "# If number equals guess_me, print 'found it!' and then exit the loop. \n",
    "# If number is greater than guess_me, print 'oops' and then exit the loop. Increment number at the end of the loop.\n",
    "guess_me = 7\n",
    "number = 1\n",
    "while (True):\n",
    "    if (number < guess_me):\n",
    "        print('too low')\n",
    "    if (number == guess_me):\n",
    "        print('found it!')\n",
    "        break\n",
    "    if (number > guess_me):\n",
    "        print('oops')\n",
    "        break\n",
    "    number = number + 1 \n",
    "\n"
   ]
  },
  {
   "cell_type": "code",
   "execution_count": 8,
   "metadata": {},
   "outputs": [
    {
     "name": "stdout",
     "output_type": "stream",
     "text": [
      "too low\n",
      "too low\n",
      "too low\n",
      "too low\n",
      "too low\n",
      "too low\n",
      "too low\n",
      "too low\n",
      "too low\n",
      "too low\n"
     ]
    }
   ],
   "source": [
    "#6.3 Assign the value 5 to the variable guess_me. Use a for loop to iterate a variable called number over range(10). \n",
    "# If number is less than guess_me, print 'too low'. If it equals guess_me, print found it! and then break out of the for loop. \n",
    "# If number is greater than guess_me, print 'oops' and then exit the loop.\n",
    "guess_me = 10\n",
    "for number_over_range in range(10):\n",
    "    if (number_over_range < guess_me):\n",
    "        print('too low')\n",
    "    elif (number_over_range == guess_me):\n",
    "        print('found it!')\n",
    "        break\n",
    "    elif (number_over_range > guess_me):\n",
    "        print('oops')\n",
    "        break"
   ]
  }
 ],
 "metadata": {
  "kernelspec": {
   "display_name": "base",
   "language": "python",
   "name": "python3"
  },
  "language_info": {
   "codemirror_mode": {
    "name": "ipython",
    "version": 3
   },
   "file_extension": ".py",
   "mimetype": "text/x-python",
   "name": "python",
   "nbconvert_exporter": "python",
   "pygments_lexer": "ipython3",
   "version": "3.12.4"
  }
 },
 "nbformat": 4,
 "nbformat_minor": 2
}
